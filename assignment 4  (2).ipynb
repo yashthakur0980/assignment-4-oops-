{
 "cells": [
  {
   "cell_type": "code",
   "execution_count": 1,
   "id": "c6f443c8-703f-4baa-92f3-ce32e1fc7fd6",
   "metadata": {},
   "outputs": [],
   "source": [
    "##Q1 = "
   ]
  },
  {
   "cell_type": "code",
   "execution_count": 4,
   "id": "5c34d69b-66c1-481f-9edd-2a4496f74988",
   "metadata": {},
   "outputs": [
    {
     "data": {
      "text/plain": [
       "'An object is called an instance of a class. For example, suppose Bike is a class then we can create objects like bike1, bike2, etc from the class.'"
      ]
     },
     "execution_count": 4,
     "metadata": {},
     "output_type": "execute_result"
    }
   ],
   "source": [
    "'''A class is considered as a blueprint of objects. We can think of the class as a sketch (prototype) of a house.\n",
    "It contains all the details about the floors, doors, windows, etc. Based on these descriptions we build the house. House is the object.'''\n",
    "\n",
    "'''An object is called an instance of a class. For example, suppose Bike is a class then we can create objects like bike1, bike2, etc from the class.'''"
   ]
  },
  {
   "cell_type": "code",
   "execution_count": 6,
   "id": "083a602a-490c-466c-8244-784fca814bd8",
   "metadata": {},
   "outputs": [],
   "source": [
    "##Q2 = "
   ]
  },
  {
   "cell_type": "code",
   "execution_count": 7,
   "id": "e11b9d6a-4f5a-4c9c-81fe-0ffeb1c9febb",
   "metadata": {},
   "outputs": [],
   "source": [
    "##Major pillars of Object Oriented Programming (OOP) are Inheritance, Polymorphism, Data Abstraction, and Encapsulation."
   ]
  },
  {
   "cell_type": "code",
   "execution_count": 8,
   "id": "f961eaf7-b1c2-48f2-b3bf-ebe6bdf2082e",
   "metadata": {},
   "outputs": [],
   "source": [
    "##Q3 = "
   ]
  },
  {
   "cell_type": "code",
   "execution_count": 9,
   "id": "21281c69-0553-4e62-85bd-587dd4faee51",
   "metadata": {},
   "outputs": [
    {
     "data": {
      "text/plain": [
       "' __init__function is called constructor.\\nConstructors are used to initializing the object’s state. \\nThe task of constructors is to initialize(assign values) to the data members (attributes) of the class when an object of the class is created. Like methods, a constructor also contains a collection of statements that are executed at the time of Object creation.\\nIt is run as soon as an object of a class is instantiated.'"
      ]
     },
     "execution_count": 9,
     "metadata": {},
     "output_type": "execute_result"
    }
   ],
   "source": [
    "''' __init__function is called constructor.\n",
    "Constructors are used to initializing the object’s state. \n",
    "The task of constructors is to initialize(assign values) to the data members (attributes) of the class when an object of the class is created. Like methods, a constructor also contains a collection of statements that are executed at the time of Object creation.\n",
    "It is run as soon as an object of a class is instantiated.'''\n"
   ]
  },
  {
   "cell_type": "code",
   "execution_count": 12,
   "id": "d00e891b-5d20-4f5e-b9f9-cb765f08abb7",
   "metadata": {},
   "outputs": [
    {
     "data": {
      "text/plain": [
       "123"
      ]
     },
     "execution_count": 12,
     "metadata": {},
     "output_type": "execute_result"
    }
   ],
   "source": [
    "class phone:\n",
    "    def __init__(self,name,model_num):\n",
    "        self.name = name \n",
    "        self.model_num = model_num\n",
    "redme = phone('11 pro',123)\n",
    "redme.model_num"
   ]
  },
  {
   "cell_type": "code",
   "execution_count": 13,
   "id": "bb6b68bb-2957-4b07-a63a-53b4ce50254b",
   "metadata": {},
   "outputs": [],
   "source": [
    "##Q4="
   ]
  },
  {
   "cell_type": "code",
   "execution_count": 14,
   "id": "659ec750-aad9-46cb-86ef-d8eddac4c9a2",
   "metadata": {},
   "outputs": [
    {
     "data": {
      "text/plain": [
       "'self represents the instance of the class. By using the “self” we can access the attributes and methods of the class in python. It binds the attributes with the given arguments.'"
      ]
     },
     "execution_count": 14,
     "metadata": {},
     "output_type": "execute_result"
    }
   ],
   "source": [
    "'''self represents the instance of the class. By using the “self” we can access the attributes and methods of the class in python. It binds the attributes with the given arguments.'''"
   ]
  },
  {
   "cell_type": "code",
   "execution_count": 15,
   "id": "5fe451ec-f717-4f14-b28c-e6f368b6167c",
   "metadata": {},
   "outputs": [],
   "source": [
    "##Q5= "
   ]
  },
  {
   "cell_type": "code",
   "execution_count": 16,
   "id": "e57b8555-21e6-47ca-a985-52a6e3f82187",
   "metadata": {},
   "outputs": [
    {
     "data": {
      "text/plain": [
       "'abc'"
      ]
     },
     "execution_count": 16,
     "metadata": {},
     "output_type": "execute_result"
    }
   ],
   "source": [
    "##Inheritance is defined as the mechanism of inheriting the properties of the base class to the child class.\n",
    "##Single inheritance enables a derived class to inherit properties from a single parent class\n",
    "class parent:\n",
    "    name = 'abc'\n",
    "    num = 123\n",
    "class child(parent):\n",
    "    pass\n",
    "obj = child()\n",
    "child.name"
   ]
  },
  {
   "cell_type": "code",
   "execution_count": 20,
   "id": "c79f202e-a99c-4f14-abfa-d660e60a9420",
   "metadata": {},
   "outputs": [
    {
     "name": "stdout",
     "output_type": "stream",
     "text": [
      "xyz\n",
      "abc\n"
     ]
    }
   ],
   "source": [
    "##multiple inheritance is When a class can be derived from more than one base class\n",
    "class parent1:\n",
    "    name = 'abc'\n",
    "    num = 123\n",
    "    \n",
    "class parent2:\n",
    "    name1 = 'xyz'\n",
    "    num1= 111  \n",
    "    \n",
    "class child(parent1,parent2):\n",
    "    pass\n",
    "obj = child()\n",
    "print(child.name1)\n",
    "print(child.name)"
   ]
  },
  {
   "cell_type": "code",
   "execution_count": 24,
   "id": "90a0263e-03a3-4b2f-99fc-df9ceb438d18",
   "metadata": {},
   "outputs": [
    {
     "name": "stdout",
     "output_type": "stream",
     "text": [
      "abc\n",
      "xyz\n",
      "yyy\n"
     ]
    }
   ],
   "source": [
    "##In multilevel inheritance, features of the base class and the derived class are further inherited into the new derived class.\n",
    "\n",
    "class one:\n",
    "    name = 'abc'\n",
    "    num = 123\n",
    "class two(one):\n",
    "    name1 = 'xyz'\n",
    "    num1 = 222\n",
    "class three(two):\n",
    "    name2 = 'yyy'\n",
    "    num2 = 333\n",
    "obj= three()\n",
    "print(obj.name)\n",
    "print(obj.name1)\n",
    "print(obj.name2)"
   ]
  },
  {
   "cell_type": "code",
   "execution_count": null,
   "id": "7f7fc235-4d8d-4e3f-a32e-8587f2600c00",
   "metadata": {},
   "outputs": [],
   "source": []
  }
 ],
 "metadata": {
  "kernelspec": {
   "display_name": "Python 3 (ipykernel)",
   "language": "python",
   "name": "python3"
  },
  "language_info": {
   "codemirror_mode": {
    "name": "ipython",
    "version": 3
   },
   "file_extension": ".py",
   "mimetype": "text/x-python",
   "name": "python",
   "nbconvert_exporter": "python",
   "pygments_lexer": "ipython3",
   "version": "3.10.6"
  }
 },
 "nbformat": 4,
 "nbformat_minor": 5
}
